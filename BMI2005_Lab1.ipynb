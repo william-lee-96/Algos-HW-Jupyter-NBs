{
 "cells": [
  {
   "cell_type": "markdown",
   "metadata": {},
   "source": [
    "William Lee / BMI-2005 / Lab 1"
   ]
  },
  {
   "cell_type": "code",
   "execution_count": null,
   "metadata": {},
   "outputs": [],
   "source": [
    "# Counting DNA Nucleotides (Problem 1)\n",
    "\n",
    "path = '/Users/williamlee/Desktop/BMI2005_Algorithms_2020/Labs/rosalind_dna.txt'\n",
    "with open(path, 'r') as file:\n",
    "    dna = file.readline()\n",
    "\n",
    "def compute_acgt(seq):\n",
    "    a = 0; c = 0; g = 0; t = 0;\n",
    "    for base in dna:\n",
    "        if base == \"A\": a += 1\n",
    "        elif base == \"C\": c += 1\n",
    "        elif base == \"G\": g += 1\n",
    "        elif base == \"T\": t += 1\n",
    "    return print(a,c,g,t)\n",
    "\n",
    "compute_acgt(dna)"
   ]
  },
  {
   "cell_type": "code",
   "execution_count": null,
   "metadata": {},
   "outputs": [],
   "source": [
    "# Fibonacci Numbers (Problem 2)\n",
    "\n",
    "path = '/Users/williamlee/Desktop/BMI2005_Algorithms_2020/Labs/rosalind_fibo.txt'\n",
    "with open(path, 'r') as file:\n",
    "    num = int(file.readline())\n",
    "\n",
    "import numpy as np\n",
    "\n",
    "def fibonacci(n):\n",
    "    f = np.ones(n)\n",
    "    for i in range(2,n):\n",
    "        f[i] = f[i-1] + f[i-2]\n",
    "    return (int(f[n-1]))\n",
    "\n",
    "fibonacci(num)"
   ]
  }
 ],
 "metadata": {
  "kernelspec": {
   "display_name": "Python 3",
   "language": "python",
   "name": "python3"
  },
  "language_info": {
   "codemirror_mode": {
    "name": "ipython",
    "version": 3
   },
   "file_extension": ".py",
   "mimetype": "text/x-python",
   "name": "python",
   "nbconvert_exporter": "python",
   "pygments_lexer": "ipython3",
   "version": "3.7.4"
  }
 },
 "nbformat": 4,
 "nbformat_minor": 2
}
