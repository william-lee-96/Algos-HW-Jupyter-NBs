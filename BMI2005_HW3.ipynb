{
 "cells": [
  {
   "cell_type": "markdown",
   "metadata": {},
   "source": [
    "William Lee / BMI-2005 / Homework 3"
   ]
  },
  {
   "cell_type": "code",
   "execution_count": null,
   "metadata": {},
   "outputs": [],
   "source": [
    "# 1)\n",
    "\"\"\"\n",
    "(Note: // # // denotes a mistake in the BST)\n",
    "REASONING:\n",
    "    \n",
    "sequence C: 925, 202, 911, 240, 912, 245, 363\n",
    "\n",
    "925 --LEFT--> 202 --RIGHT--> 911 --LEFT--> 240 --RIGHT--> // 912 // ...\n",
    "... --LEFT--> 245 --RIGHT--> 363\n",
    "\n",
    "912 is in 911's left subtree, which is not possible (all nodes in a given\n",
    "node's left subtree must have smaller keys than that node).\n",
    "\n",
    "sequence E: 935, 278, 347, 621, 299, 392, 358, 363\n",
    "\n",
    "935 --LEFT--> 278 --RIGHT--> 347 --RIGHT--> 621 --LEFT--> // 299 // ...\n",
    "... --RIGHT--> 392 --LEFT--> 358 --RIGHT--> 363\n",
    "\n",
    "299 is in 347's right subtree, which is not possible (all nodes in a given\n",
    "node's right subtree must have larger keys than that node).\n",
    "\n",
    "SOLUTION: Neither C nor E could be the sequence of nodes examined.\n",
    "\"\"\""
   ]
  },
  {
   "cell_type": "code",
   "execution_count": null,
   "metadata": {},
   "outputs": [],
   "source": [
    "# 2a)\n",
    "\"\"\"\n",
    "We can utilize a BST here. Each node's key and value will be, respectively, a\n",
    "hash value (\"h(k)\") and its corresponding key (\"k\") from the linked list. When\n",
    "searching for an element with a given key, we can simply move through the tree\n",
    "and see whether the current node's hash value is greater than or less than the\n",
    "the hash value of the desired element - this will determine which direction\n",
    "(left or right, respectively) we will look to next. When the hash values match,\n",
    "we can use that node's value - i.e, the key (long character string) from the\n",
    "linked list - to retrieve the desired element.\n",
    "\"\"\""
   ]
  },
  {
   "cell_type": "code",
   "execution_count": 2,
   "metadata": {},
   "outputs": [
    {
     "name": "stdout",
     "output_type": "stream",
     "text": [
      "key = 61 | hash = 700\n",
      "key = 62 | hash = 318\n",
      "key = 63 | hash = 936\n",
      "key = 64 | hash = 554\n",
      "key = 65 | hash = 172\n"
     ]
    }
   ],
   "source": [
    "# 2b)\n",
    "# h(k) = floor(m (kA mod 1))\n",
    "# A = ((sqrt(5) - 1)/2)\n",
    "# keys = {61, 62, 63, 64, 65}\n",
    "\n",
    "# import \"math\" package for floor() and sqrt() functions\n",
    "import math\n",
    "\n",
    "# computing the hashes:\n",
    "A = (math.sqrt(5) - 1)/2\n",
    "\n",
    "# key = 61\n",
    "print(\"key = 61 | hash =\", math.floor(1000*(61*A%1)))\n",
    "\n",
    "# key = 62\n",
    "print(\"key = 62 | hash =\", math.floor(1000*(62*A%1)))\n",
    "\n",
    "# key = 63\n",
    "print(\"key = 63 | hash =\", math.floor(1000*(63*A%1)))\n",
    "\n",
    "# key = 64\n",
    "print(\"key = 64 | hash =\", math.floor(1000*(64*A%1)))\n",
    "\n",
    "# key = 65\n",
    "print(\"key = 65 | hash =\", math.floor(1000*(65*A%1)))"
   ]
  },
  {
   "cell_type": "code",
   "execution_count": 3,
   "metadata": {},
   "outputs": [
    {
     "name": "stdout",
     "output_type": "stream",
     "text": [
      "P(keys hash to different values) = 0.99\n",
      "P(keys hash to the same value) = 0.01\n"
     ]
    }
   ],
   "source": [
    "# 2c)\n",
    "\"\"\"\n",
    "P_n,m(no_collision) =  m! / ((m-n)! * m^n)\n",
    "P_n,m(collision) = 1 - P_n,m(no_collision)\n",
    "\"\"\"\n",
    "\n",
    "m = 100\n",
    "n = 2\n",
    "\n",
    "# P_n,m(no_collision)\n",
    "p_no_col = math.factorial(m)/(math.factorial(m-n)*(m**n))\n",
    "print(\"P(keys hash to different values) =\", p_no_col)\n",
    "\n",
    "# P_n,m(collision)\n",
    "p_col = round(1 - p_no_col, 2)\n",
    "print(\"P(keys hash to the same value) =\", p_col)"
   ]
  },
  {
   "cell_type": "code",
   "execution_count": null,
   "metadata": {},
   "outputs": [],
   "source": [
    "# 3a)\n",
    "\"\"\"\n",
    "WORK:\n",
    "1) 1 --RIGHT--> 2 --RIGHT--> 3\n",
    "2) 1 --RIGHT--> 3 --LEFT--> 2\n",
    "3) 2 --LEFT--> 1 --RIGHT--> 3\n",
    "4) 3 --LEFT--> 2 --LEFT--> 1\n",
    "5) 3 --LEFT--> 1 --RIGHT--> 2\n",
    "\n",
    "SOLUTION: There are five valid BSTs that can be drawn from the array [1, 2, 3]\n",
    "\"\"\""
   ]
  },
  {
   "cell_type": "code",
   "execution_count": 4,
   "metadata": {},
   "outputs": [],
   "source": [
    "# 3b.i)\n",
    "def cn_recursive(n):\n",
    "    if n == 0:\n",
    "        return 1\n",
    "    else:\n",
    "        nth_cat_num = 0\n",
    "        for i in range(n):\n",
    "            nth_cat_num += cn_recursive(i)*cn_recursive(n-1-i)\n",
    "        return nth_cat_num"
   ]
  },
  {
   "cell_type": "code",
   "execution_count": 5,
   "metadata": {},
   "outputs": [],
   "source": [
    "# 3b.ii)\n",
    "def cn_fast(n):\n",
    "    bi_co = math.factorial(2*n)/(math.factorial(n)*math.factorial(2*n-n))\n",
    "    return int((1/(n+1))*bi_co)"
   ]
  },
  {
   "cell_type": "code",
   "execution_count": 6,
   "metadata": {},
   "outputs": [
    {
     "data": {
      "image/png": "[encoded data removed]",
      "text/plain": [
       "<Figure size 432x288 with 1 Axes>"
      ]
     },
     "metadata": {
      "needs_background": "light"
     },
     "output_type": "display_data"
    },
    {
     "name": "stdout",
     "output_type": "stream",
     "text": [
      "n = 0 | Catalan number = 1\n",
      "n = 1 | Catalan number = 1\n",
      "n = 2 | Catalan number = 2\n",
      "n = 3 | Catalan number = 5\n",
      "n = 4 | Catalan number = 14\n",
      "n = 5 | Catalan number = 42\n",
      "n = 6 | Catalan number = 132\n",
      "n = 7 | Catalan number = 429\n",
      "n = 8 | Catalan number = 1430\n"
     ]
    }
   ],
   "source": [
    "# 3b.iii)\n",
    "import time\n",
    "import matplotlib.pyplot as plt\n",
    "\n",
    "def get_cn_time(n, cn_func):\n",
    "    begin = time.process_time()\n",
    "    cn_func(n)\n",
    "    finish = time.process_time()\n",
    "    return (finish - begin)\n",
    "\n",
    "doub = [1,2,4,8]\n",
    "\n",
    "rcsv_time = []\n",
    "fast_time = []\n",
    "\n",
    "for val in doub:\n",
    "    rcsv_time.append(get_cn_time(val, cn_recursive))\n",
    "    fast_time.append(get_cn_time(val, cn_fast))\n",
    "\n",
    "plt.figure()\n",
    "plt.title(\"cn_recursive vs. cn_fast runtimes\")\n",
    "plt.xlabel(\"log10(n)\")\n",
    "plt.ylabel(\"log10(runtime) [seconds]\")\n",
    "\n",
    "plt.loglog(doub[:], rcsv_time[:], marker='o', color='r')\n",
    "plt.loglog(doub[:], fast_time[:], marker='o', color='g')\n",
    "\n",
    "plt.legend([\"cn_recursive\",\"cn_fast\"], loc='best', fancybox=True)\n",
    "\n",
    "plt.show()\n",
    "\n",
    "# First 8 Catalan numbers:\n",
    "for i in range(9):\n",
    "    print(\"n =\", i, \"| Catalan number =\", cn_fast(i))"
   ]
  },
  {
   "cell_type": "code",
   "execution_count": 8,
   "metadata": {},
   "outputs": [],
   "source": [
    "# 4a)\n",
    "import numpy as np\n",
    "\n",
    "keys = []\n",
    "n = 100\n",
    "for i in range(10):\n",
    "    keys.append(n)\n",
    "    n*=2\n",
    "\n",
    "rand = []\n",
    "for k in keys:\n",
    "    rand.append(np.random.randint(0,100000,k))\n",
    "\n",
    "dict_k = {}\n",
    "for i in range(10):\n",
    "    dict_k[keys[i]] = rand[i]"
   ]
  },
  {
   "cell_type": "code",
   "execution_count": 9,
   "metadata": {},
   "outputs": [],
   "source": [
    "# 4b)\n",
    "#########################################################\n",
    "# THE FOLLOWING CODE IS FROM THE HOMEWORK #3 GOOGLE DOC #\n",
    "\n",
    "class Node:\n",
    "    def __init__(self, val):\n",
    "        self.val = val\n",
    "        self.leftChild = None\n",
    "        self.rightChild = None\n",
    "    \n",
    "    def get(self):\n",
    "        return self.val\n",
    "    \n",
    "    def set(self, val):\n",
    "        self.val = val\n",
    "        \n",
    "    def getChildren(self):\n",
    "        children = []\n",
    "        if(self.leftChild != None):\n",
    "            children.append(self.leftChild)\n",
    "        if(self.rightChild != None):\n",
    "            children.append(self.rightChild)\n",
    "        return children\n",
    "        \n",
    "\n",
    "class BST:\n",
    "    def __init__(self):\n",
    "        self.root = None\n",
    "\n",
    "    def setRoot(self, val):\n",
    "        self.root = Node(val)\n",
    "    \n",
    "    def insert(self, val):\n",
    "        if(self.root is None):\n",
    "            self.setRoot(val)\n",
    "        else:\n",
    "            self.insertNode(self.root, val)\n",
    "\n",
    "    def insertNode(self, currentNode, val):\n",
    "        if(val <= currentNode.val):\n",
    "            if(currentNode.leftChild):\n",
    "                self.insertNode(currentNode.leftChild, val)\n",
    "            else:\n",
    "                currentNode.leftChild = Node(val)\n",
    "        elif(val > currentNode.val):\n",
    "            if(currentNode.rightChild):\n",
    "                self.insertNode(currentNode.rightChild, val)\n",
    "            else:\n",
    "                currentNode.rightChild = Node(val)\n",
    "                \n",
    "    def find(self, val, count = 0):\n",
    "        return self.findNode(self.root, val, count)\n",
    "\n",
    "    def findNode(self, currentNode, val, count):\n",
    "        if(currentNode is None):\n",
    "            return False, count + 1\n",
    "        elif(val == currentNode.val):\n",
    "            return True, count + 1\n",
    "        elif(val < currentNode.val):\n",
    "            return self.findNode(currentNode.leftChild, val, count+1)\n",
    "        else:\n",
    "            return self.findNode(currentNode.rightChild, val, count+1)\n",
    "    \n",
    "    def traverse(self):\n",
    "        if self.root is not None:\n",
    "            self.inorder_traverse(self.root.leftChild)\n",
    "            print(self.root.val)\n",
    "            self.inorder_traverse(self.root.rightChild)\n",
    "\n",
    "    def inorder_traverse(self, Node):\n",
    "        if Node.leftChild is not None:\n",
    "            self.inorder_traverse(Node.leftChild)    \n",
    "        print(Node.val)\n",
    "        if Node.rightChild is not None:\n",
    "            self.inorder_traverse(Node.rightChild)\n",
    "            \n",
    "######################################################### END\n",
    "\n",
    "bst_dict = {}\n",
    "for i in range(10):\n",
    "    bst_dict[keys[i]] = BST()\n",
    "    \n",
    "for i in bst_dict:\n",
    "    for val in dict_k[i]:\n",
    "        bst_dict[i].insert(val)"
   ]
  },
  {
   "cell_type": "code",
   "execution_count": 10,
   "metadata": {},
   "outputs": [
    {
     "name": "stdout",
     "output_type": "stream",
     "text": [
      "tree size = 100 | avg. search time (compares) = 7.222\n",
      "tree size = 200 | avg. search time (compares) = 10.836\n",
      "tree size = 400 | avg. search time (compares) = 9.884\n",
      "tree size = 800 | avg. search time (compares) = 13.218\n",
      "tree size = 1600 | avg. search time (compares) = 12.328\n",
      "tree size = 3200 | avg. search time (compares) = 14.25\n",
      "tree size = 6400 | avg. search time (compares) = 16.265\n",
      "tree size = 12800 | avg. search time (compares) = 16.747\n",
      "tree size = 25600 | avg. search time (compares) = 18.926\n",
      "tree size = 51200 | avg. search time (compares) = 19.248\n"
     ]
    }
   ],
   "source": [
    "# 4c)\n",
    "random_choice = []\n",
    "for i in range(10):\n",
    "    random_choice.append(np.random.choice(rand[i], size=1000))\n",
    "\n",
    "def get_bst_time(bst, rand_keys):\n",
    "    compares = 0\n",
    "    for rk in rand_keys:\n",
    "        k, num_c = bst.find(rk)\n",
    "        compares += num_c\n",
    "    average_compares = compares/1000\n",
    "    return average_compares\n",
    "\n",
    "n = 100\n",
    "avg_st = []\n",
    "for i in range(10):\n",
    "    st = get_bst_time(bst_dict[n], random_choice[i])\n",
    "    avg_st.append(st)\n",
    "    print(\"tree size =\", n, \"| avg. search time (compares) =\", st)\n",
    "    n*=2"
   ]
  },
  {
   "cell_type": "code",
   "execution_count": 11,
   "metadata": {},
   "outputs": [
    {
     "name": "stdout",
     "output_type": "stream",
     "text": [
      "tree size = 100 |  estimated constant c = 1.0870193143426363\n",
      "tree size = 200 |  estimated constant c = 1.4176090877396992\n",
      "tree size = 400 |  estimated constant c = 1.1434711294355298\n",
      "tree size = 800 |  estimated constant c = 1.370613553322674\n",
      "tree size = 1600 |  estimated constant c = 1.158226847506939\n",
      "tree size = 3200 |  estimated constant c = 1.2238213670582698\n",
      "tree size = 6400 |  estimated constant c = 1.2863955233177793\n",
      "tree size = 12800 |  estimated constant c = 1.2274389122153677\n",
      "tree size = 25600 |  estimated constant c = 1.2924191384244363\n",
      "tree size = 51200 |  estimated constant c = 1.2303871735014444\n"
     ]
    }
   ],
   "source": [
    "# 4d)\n",
    "n = 100\n",
    "for i in range(10):\n",
    "    temp = (avg_st[i])/(np.log2(n))\n",
    "    print(\"tree size =\", n, \"|  estimated constant c =\", temp)\n",
    "    n*=2"
   ]
  },
  {
   "cell_type": "code",
   "execution_count": 39,
   "metadata": {},
   "outputs": [
    {
     "name": "stdout",
     "output_type": "stream",
     "text": [
      "8\n",
      "11\n"
     ]
    }
   ],
   "source": [
    "# 5a)\n",
    "def DPChange(M, c, d):\n",
    "    bestNumCoins = [0]\n",
    "    for m in range(M+1):\n",
    "        bestNumCoins.append(float(\"inf\"))\n",
    "        for i in range(d):\n",
    "            if m >= c[i]:\n",
    "                if bestNumCoins[m-c[i]] + 1 < bestNumCoins[m]:\n",
    "                    bestNumCoins[m] = bestNumCoins[m-c[i]] + 1\n",
    "    return bestNumCoins[M]\n",
    "\n",
    "# Correct answer: 8 \n",
    "print(DPChange(89,[1, 5, 10, 25],4))\n",
    "# Output: 8 (passes test #1)\n",
    "\n",
    "# Correct answer: 11 \n",
    "print(DPChange(79,[1,3,9],3))\n",
    "# Output: 11 (passes test #2)"
   ]
  },
  {
   "cell_type": "code",
   "execution_count": null,
   "metadata": {},
   "outputs": [],
   "source": [
    "# 5b) \n",
    "\"\"\"\n",
    "The runtime of this algorithm is O(M*d).\n",
    "\"\"\""
   ]
  },
  {
   "cell_type": "code",
   "execution_count": 46,
   "metadata": {},
   "outputs": [
    {
     "name": "stdout",
     "output_type": "stream",
     "text": [
      "(8, [4, 0, 1, 3])\n",
      "(11, [1, 2, 8])\n"
     ]
    }
   ],
   "source": [
    "# 5c)\n",
    "def DPChange_bt(M, c, d):\n",
    "    bestNumCoins = [0]\n",
    "    coins_used= [d*[0]]\n",
    "    for m in range(M+1):\n",
    "        bestNumCoins.append(float(\"inf\"))\n",
    "        coins_used.append(d*[0])\n",
    "        for i in range(d):\n",
    "            if m >= c[i]:\n",
    "                if bestNumCoins[m-c[i]] + 1 < bestNumCoins[m]:\n",
    "                    bestNumCoins[m] = bestNumCoins[m-c[i]] + 1\n",
    "                    coins_used[m] = coins_used[m-c[i]].copy()\n",
    "                    coins_used[m][i] += 1\n",
    "    \n",
    "    return bestNumCoins[M], coins_used[M]\n",
    "\n",
    "# Correct answer: (8, [4, 0, 1, 3])\n",
    "print(DPChange_bt(89,[1, 5, 10, 25],4))\n",
    "# Output: (8, [4, 0, 1, 3]) (passes test #1)\n",
    "\n",
    "# Correct answer: (11, [1, 2, 8])\n",
    "print(DPChange_bt(79,[1,3,9],3))\n",
    "# Output: (11, [1, 2, 8]) (passes test #2)"
   ]
  },
  {
   "cell_type": "code",
   "execution_count": 47,
   "metadata": {},
   "outputs": [
    {
     "name": "stdout",
     "output_type": "stream",
     "text": [
      "[1, 1, 1, 1, 1, 5, 1, 1, 1, 1, 1, 5, 10, 1, 1, 1, 1, 1, 5, 1, 1, 1, 1, 1, 5, 10, 1, 1, 1, 1, 1, 5, 25, 1, 1, 1, 1, 1, 5, 1, 1, 1, 1, 1, 5, 10, 1, 1, 1, 1, 1, 5, 1, 1, 1, 1, 1, 5, 10, 1, 1, 1, 1, 1, 5, 25, 1, 1, 1, 1, 1, 5, 1, 1, 1, 1, 1, 5, 10, 1, 1, 1, 1, 1, 5, 1, 1, 1, 1, 1, 5, 10, 1, 1, 1, 1, 1, 5, 25, 1, 1, 1, 1, 1, 5, 1, 1, 1, 1, 1, 5, 10, 1, 1, 1, 1]\n"
     ]
    },
    {
     "data": {
      "text/plain": [
       "(8, [4, 0, 1, 3])"
      ]
     },
     "execution_count": 47,
     "metadata": {},
     "output_type": "execute_result"
    }
   ],
   "source": [
    "# 5d)\n",
    "def printCoins(M,c,d):\n",
    "    bestNumCoins = [0]\n",
    "    coins_used= [d*[0]]\n",
    "    seq_coins_to_M = []\n",
    "    for m in range(M+1):\n",
    "        bestNumCoins.append(float(\"inf\"))\n",
    "        coins_used.append([d*[0]])\n",
    "        for i in range(d):\n",
    "            if m >= c[i]:\n",
    "                if bestNumCoins[m-c[i]] + 1 < bestNumCoins[m]:\n",
    "                    bestNumCoins[m] = bestNumCoins[m-c[i]] + 1\n",
    "                    coins_used[m] = coins_used[m-c[i]].copy()\n",
    "                    coins_used[m][i] += 1\n",
    "                    seq_coins_to_M.append(c[i])\n",
    "                    \n",
    "    print(seq_coins_to_M)\n",
    "    return bestNumCoins[M], coins_used[M]\n",
    "\n",
    "# Test\n",
    "printCoins(89,[1, 5, 10, 25],4)"
   ]
  },
  {
   "cell_type": "code",
   "execution_count": 48,
   "metadata": {},
   "outputs": [
    {
     "name": "stdout",
     "output_type": "stream",
     "text": [
      "1.4472140096070925\n"
     ]
    }
   ],
   "source": [
    "# 5e)\n",
    "\"\"\"\n",
    "The increase in runtime is trivial with the addition of this backtrace; any\n",
    "additional time comes from having to do a few more operations, not because\n",
    "of a substantial increase in complexity (i.e., more nested loops/compares).\n",
    "See below for runtime comparison between DPChange and DPChange_bt.\n",
    "(Result: There is ~1.45x increase in runtime with the backtrace)\n",
    "\"\"\"\n",
    "\n",
    "begin = time.process_time()\n",
    "for i in range(10000):\n",
    "    DPChange(89,[1, 5, 10, 25],4)\n",
    "    DPChange(79,[1,3,9],3)\n",
    "finish = time.process_time()\n",
    "DPChange_time = (finish-begin)\n",
    "\n",
    "begin = time.process_time()\n",
    "for i in range(10000):\n",
    "    DPChange_bt(89,[1, 5, 10, 25],4)\n",
    "    DPChange_bt(79,[1,3,9],3)\n",
    "finish = time.process_time()\n",
    "DPChange_bt_time = (finish-begin)\n",
    "\n",
    "print(DPChange_bt_time/DPChange_time)"
   ]
  },
  {
   "cell_type": "code",
   "execution_count": 49,
   "metadata": {},
   "outputs": [],
   "source": [
    "# 6a)\n",
    "\"\"\"\n",
    "base case T_{i,j}:\n",
    "    \n",
    "T_{0,j} = 0\n",
    "Reasoning: As the knapsack is not holding any items, the total weight must be 0.\n",
    "\n",
    "T_{i,0} = 0\n",
    "Reasoning: As the total weight is 0, the knapsack must not be holding any items.\n",
    "\"\"\"\n",
    "\n",
    "# I used the following link as a resource for problems 6b and 6c:\n",
    "# https://www.tutorialspoint.com/python-program-for-0-1-knapsack-problem\n",
    "\n",
    "W = 50\n",
    "a = [60, 100, 120]\n",
    "w = [10, 20, 30]\n",
    "len_a = len(a)"
   ]
  },
  {
   "cell_type": "code",
   "execution_count": 50,
   "metadata": {},
   "outputs": [
    {
     "data": {
      "text/plain": [
       "220"
      ]
     },
     "execution_count": 50,
     "metadata": {},
     "output_type": "execute_result"
    }
   ],
   "source": [
    "# 6b)\n",
    "def knapsack_recursive(i, j, items, w_items): \n",
    "  \n",
    "    # T_{0,j} = 0 (base case)\n",
    "    if i == 0: \n",
    "        return 0\n",
    "    \n",
    "    # T_{i,0} = 0 (base case)\n",
    "    if j == 0:\n",
    "        return 0\n",
    "      \n",
    "    if (w_items[i-1] > j): \n",
    "        return knapsack_recursive(i-1, j, items, w_items)\n",
    "    else:\n",
    "        opt1 = knapsack_recursive(i-1, j-w_items[i-1], items, w_items) + items[i-1]\n",
    "        opt2 = knapsack_recursive(i-1, j-w_items[i-1], items, w_items)\n",
    "    \n",
    "        if opt1 >= opt2:\n",
    "            return opt1\n",
    "        else:\n",
    "            return opt2\n",
    "\n",
    "\n",
    "# Correct answer: 220\n",
    "knapsack_recursive(len_a, W, a, w)\n",
    "# Output: 220 (passes test)"
   ]
  },
  {
   "cell_type": "code",
   "execution_count": 51,
   "metadata": {},
   "outputs": [
    {
     "data": {
      "text/plain": [
       "220"
      ]
     },
     "execution_count": 51,
     "metadata": {},
     "output_type": "execute_result"
    }
   ],
   "source": [
    "# 6c)\n",
    "def knapsack_dynamic(i, j, items, w_items):\n",
    "    \n",
    "    list_j = [0]*(j+1)\n",
    "    array = []\n",
    "    for n in range(i+1):\n",
    "        array.append(list_j)\n",
    "    \n",
    "    for x in range(i+1):\n",
    "        for y in range(j+1):\n",
    "            \n",
    "            if x == 0: \n",
    "                array[x][y] = 0\n",
    "            if y == 0:\n",
    "                array[x][y] = 0\n",
    "                \n",
    "            elif w_items[x-1] <= y:\n",
    "                opt1 = array[x-1][y-w_items[x-1]] + items[x-1]\n",
    "                opt2 = array[x-1][y-w_items[x-1]]\n",
    "                \n",
    "                if opt1 >= opt2:\n",
    "                    array[x][y] = opt1\n",
    "                \n",
    "                else:\n",
    "                    array[x][y] = opt2\n",
    "                \n",
    "            else:\n",
    "                array[x][y] = array[x-1][y]\n",
    "                \n",
    "    return array[i][j]\n",
    "\n",
    "# Correct answer: 220\n",
    "knapsack_dynamic(len_a, W, a, w)\n",
    "# Output: 220 (passes test)\n",
    "\n",
    "# Note: no backtrace implemented"
   ]
  }
 ],
 "metadata": {
  "kernelspec": {
   "display_name": "Python 3",
   "language": "python",
   "name": "python3"
  },
  "language_info": {
   "codemirror_mode": {
    "name": "ipython",
    "version": 3
   },
   "file_extension": ".py",
   "mimetype": "text/x-python",
   "name": "python",
   "nbconvert_exporter": "python",
   "pygments_lexer": "ipython3",
   "version": "3.7.4"
  }
 },
 "nbformat": 4,
 "nbformat_minor": 4
}
