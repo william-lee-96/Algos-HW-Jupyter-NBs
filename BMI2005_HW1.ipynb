{
 "cells": [
  {
   "cell_type": "markdown",
   "metadata": {},
   "source": [
    "William Lee / BMI-2005 / Homework 1"
   ]
  },
  {
   "cell_type": "code",
   "execution_count": 5,
   "metadata": {},
   "outputs": [],
   "source": [
    "import os\n",
    "path = \"/Users/williamlee/Desktop/BMI2005_Algorithms_2020\"\n",
    "os.chdir(path)"
   ]
  },
  {
   "cell_type": "code",
   "execution_count": 6,
   "metadata": {},
   "outputs": [],
   "source": [
    "# 1a)\n",
    "def naive_lj(r,s=1,e=1):\n",
    "  return 4*e*(((s/r)**12) - ((s/r)**6))"
   ]
  },
  {
   "cell_type": "code",
   "execution_count": null,
   "metadata": {},
   "outputs": [],
   "source": [
    "\"\"\"\n",
    "1b)\n",
    "\n",
    "1) start with efficient equation\n",
    "\n",
    "-4*e*u*(1 - u)\n",
    "\n",
    "2) u ← z**3\n",
    "\n",
    "-4*e*(z**3)*(1 - (z**3))\n",
    "\n",
    "3) z ← (s**2)/(r**2)\n",
    "\n",
    "-4*e*(((s**2)/(r**2))**3)*(1 - (((s**2)/(r**2))**3))\n",
    "\n",
    "4) simplify equation (multiply powers)\n",
    "\n",
    "-4*e*((s**6)/(r**6))*(1 - ((s**6)/(r**6)))\n",
    "\n",
    "5) simplify equation (distribute (s**6)/(r**6))\n",
    "\n",
    "-4*e*(((s**6)/(r**6)) - ((s**12)/(r**12)))\n",
    "\n",
    "6) distribute the negative sign\n",
    "\n",
    "4*e*(-((s**6)/(r**6)) + ((s**12)/(r**12)))\n",
    "\n",
    "7) reorder terms; original LJ function recovered\n",
    "\n",
    "4*e*(((s/r)**12) - ((s/r)**6))\n",
    "\"\"\""
   ]
  },
  {
   "cell_type": "code",
   "execution_count": 7,
   "metadata": {},
   "outputs": [
    {
     "data": {
      "text/plain": [
       "'\\n# naive_lj(r,s,e) (naive function) arithmetic operations:\\n1. r**12\\n2. r**6\\n3. s**12\\n4. s**6\\n5. 4*e\\n6. s**12/r**12\\n7. s**6/r**6\\n8. (s**12/r**12) - (s**6/r**6)\\n9. 4*e*((s**12/r**12) - (s**6/r**6))\\n# naive_lj(r,s,e) (naive function) assignment operations:\\nnone\\n### TOTAL OPERATIONS: 9\\n\\n# LJPOTENTIAL(r,s,e) (efficient function) arithmetic operations:\\n1. r*r\\n2. s*s\\n3. s2/r2\\n4. z**3\\n5. 1 - u\\n6. -4*e\\n7. -4*e*u\\n8. -4*e*u*(1 - u)\\n# LJPOTENTIAL(r,s,e) (efficient function) assignment operations:\\n1. r2 = r*r\\n2. s2 = s*s\\n3. z = s2/r2\\n4. u = z**3\\n### TOTAL OPERATIONS: 12\\n\\nInterpretation: considering that the naive function has 9 total arithmetic\\noperations and that the efficient has 8, we might expect the latter to\\nbe marginally faster (but for both to ultimately yield the same result).\\nHowever, it is worth noting that the efficient function does have a greater\\nnumber of total operations (arithmetic + assignment).\\n'"
      ]
     },
     "execution_count": 7,
     "metadata": {},
     "output_type": "execute_result"
    }
   ],
   "source": [
    "# 1c)\n",
    "\n",
    "def LJPOTENTIAL(r,s,e):\n",
    "    r2 = r*r\n",
    "    s2 = s*s\n",
    "    z = s2/r2\n",
    "    u = z**3\n",
    "    return -4*e*u*(1 - u)\n",
    "\n",
    "\"\"\"\n",
    "# naive_lj(r,s,e) (naive function) arithmetic operations:\n",
    "1. r**12\n",
    "2. r**6\n",
    "3. s**12\n",
    "4. s**6\n",
    "5. 4*e\n",
    "6. s**12/r**12\n",
    "7. s**6/r**6\n",
    "8. (s**12/r**12) - (s**6/r**6)\n",
    "9. 4*e*((s**12/r**12) - (s**6/r**6))\n",
    "# naive_lj(r,s,e) (naive function) assignment operations:\n",
    "none\n",
    "### TOTAL OPERATIONS: 9\n",
    "\n",
    "# LJPOTENTIAL(r,s,e) (efficient function) arithmetic operations:\n",
    "1. r*r\n",
    "2. s*s\n",
    "3. s2/r2\n",
    "4. z**3\n",
    "5. 1 - u\n",
    "6. -4*e\n",
    "7. -4*e*u\n",
    "8. -4*e*u*(1 - u)\n",
    "# LJPOTENTIAL(r,s,e) (efficient function) assignment operations:\n",
    "1. r2 = r*r\n",
    "2. s2 = s*s\n",
    "3. z = s2/r2\n",
    "4. u = z**3\n",
    "### TOTAL OPERATIONS: 12\n",
    "\n",
    "Interpretation: considering that the naive function has 9 total arithmetic\n",
    "operations and that the efficient has 8, we might expect the latter to\n",
    "be marginally faster (but for both to ultimately yield the same result).\n",
    "However, it is worth noting that the efficient function does have a greater\n",
    "number of total operations (arithmetic + assignment).\n",
    "\"\"\""
   ]
  },
  {
   "cell_type": "code",
   "execution_count": 8,
   "metadata": {},
   "outputs": [
    {
     "name": "stdout",
     "output_type": "stream",
     "text": [
      "naive runtime:  6.14819999995575e-05\n",
      "efficient runtime:  5.62760000022422e-05\n"
     ]
    },
    {
     "data": {
      "text/plain": [
       "'\\nAs expected the efficient algorithm has a consistently faster runtime\\n(though the difference is extremely small). It uses a smaller number of \\narithmetic operations, so logically this makes sense. \\n'"
      ]
     },
     "execution_count": 8,
     "metadata": {},
     "output_type": "execute_result"
    }
   ],
   "source": [
    "# 1d)\n",
    "import time\n",
    "# value of r is arbitrary here\n",
    "r = 2\n",
    "\n",
    "# measures naive runtime, r=2\n",
    "init = time.perf_counter()\n",
    "naive_lj(r,1,1)\n",
    "fin = time.perf_counter()\n",
    "time_in_sec = fin - init\n",
    "print(\"naive runtime: \", time_in_sec)\n",
    "\n",
    "# measures efficient runtime, r=2\n",
    "init = time.perf_counter()\n",
    "LJPOTENTIAL(r,1,1)\n",
    "fin = time.perf_counter()\n",
    "time_in_sec = fin - init\n",
    "print(\"efficient runtime: \", time_in_sec)\n",
    "\n",
    "\"\"\"\n",
    "As expected the efficient algorithm has a consistently faster runtime\n",
    "(though the difference is extremely small). It uses a smaller number of \n",
    "arithmetic operations, so logically this makes sense. \n",
    "\"\"\""
   ]
  },
  {
   "cell_type": "code",
   "execution_count": 11,
   "metadata": {},
   "outputs": [],
   "source": [
    "# 2a)\n",
    "import numpy as np\n",
    "\n",
    "xyz_0003 = \"lj-0003.xyz\"\n",
    "xyz_0200 = \"lj-0200.xyz\"\n",
    "xyz_0500 = \"lj-0500.xyz\"\n",
    "xyz_1000 = \"lj-1000.xyz\"\n",
    "\n",
    "def xyz_reader(xyz_file):\n",
    "\n",
    "    position = []\n",
    "    with open(xyz_file, \"r\") as xyz:\n",
    "        l_cnt = 0\n",
    "        for line in xyz:\n",
    "            l_cnt += 1\n",
    "            if l_cnt <=2:\n",
    "                continue\n",
    "            else:\n",
    "                xyz_pos = line.split()\n",
    "                xyz_pos.pop(0)\n",
    "                position.append(xyz_pos)\n",
    "    \n",
    "    pos_array = np.array(position, dtype=\"float32\")\n",
    "    return pos_array"
   ]
  },
  {
   "cell_type": "code",
   "execution_count": 12,
   "metadata": {},
   "outputs": [
    {
     "name": "stdout",
     "output_type": "stream",
     "text": [
      "3-atom position array:\n",
      " [[ 0.5391357  -0.518508    0.07937232]\n",
      " [ 0.11065882  0.4850176  -0.49567643]\n",
      " [-0.4635602   0.05370848  0.5098517 ]]\n",
      "200-atom position array:\n",
      " [[-3.657420e-01 -1.434236e+00  1.086713e+00]\n",
      " [ 1.758085e+00 -2.733505e+00 -4.553970e-01]\n",
      " [-2.777260e+00  8.659730e-01 -9.788090e-01]\n",
      " [-8.509290e-01  8.053680e-01 -1.050607e+00]\n",
      " [ 4.697280e-01 -1.262455e+00  1.770134e+00]\n",
      " [ 1.776954e+00  2.284919e+00  2.691217e+00]\n",
      " [ 1.564369e+00  2.100387e+00 -3.898060e-01]\n",
      " [ 2.153646e+00  1.233546e+00  1.145661e+00]\n",
      " [ 2.373994e+00  2.372510e+00  1.522204e+00]\n",
      " [-3.883020e-01 -2.295452e+00 -2.280274e+00]\n",
      " [ 3.075270e-01 -2.482761e+00  3.009565e+00]\n",
      " [-2.300226e+00  1.953750e-01 -2.845240e+00]\n",
      " [ 1.437510e-01  2.302608e+00 -1.036652e+00]\n",
      " [-8.150650e-01  2.285127e+00  2.228309e+00]\n",
      " [-5.325050e-01 -2.077966e+00 -2.126230e-01]\n",
      " [-2.505161e+00 -2.032122e+00  3.956170e-01]\n",
      " [ 2.298553e+00 -1.556703e+00  7.257640e-01]\n",
      " [-9.271460e-01  1.175015e+00 -2.089625e+00]\n",
      " [-1.088581e+00 -2.306500e+00 -1.239712e+00]\n",
      " [-8.483660e-01 -2.593442e+00  5.815430e-01]\n",
      " [-4.684690e-01  4.355200e-01  2.547586e+00]\n",
      " [-1.573523e+00 -2.927182e+00 -5.036780e-01]\n",
      " [ 8.607840e-01  1.864500e+00  2.211916e+00]\n",
      " [-2.718781e+00  2.004786e+00 -6.429160e-01]\n",
      " [-7.960020e-01 -1.170890e-01 -1.603722e+00]\n",
      " [ 2.364272e+00  8.743800e-01 -1.884007e+00]\n",
      " [-1.680227e+00  1.590991e+00  1.988155e+00]\n",
      " [-7.043830e-01  2.289136e+00 -2.478882e+00]\n",
      " [-2.725551e+00 -1.462385e+00  2.576240e+00]\n",
      " [-6.481100e-02  2.432663e+00  1.112106e+00]\n",
      " [ 1.578978e+00  1.157653e+00 -1.443362e+00]\n",
      " [-2.808624e+00 -1.371886e+00  1.198805e+00]\n",
      " [ 2.662049e+00 -9.652930e-01  1.894504e+00]\n",
      " [-2.120500e+00 -7.674040e-01 -1.915962e+00]\n",
      " [ 8.381890e-01  5.341650e-01  2.644669e+00]\n",
      " [ 1.820032e+00 -2.825321e+00  1.894909e+00]\n",
      " [-2.418190e+00 -2.161153e+00  1.610742e+00]\n",
      " [-2.504931e+00  1.278606e+00 -3.544100e-02]\n",
      " [-8.250680e-01  1.782477e+00 -1.284146e+00]\n",
      " [ 1.191531e+00  1.445538e+00 -2.878417e+00]\n",
      " [ 1.361469e+00 -2.352558e+00 -2.591308e+00]\n",
      " [-1.683328e+00 -2.243963e+00 -2.207895e+00]\n",
      " [-1.863343e+00 -1.556484e+00  1.110513e+00]\n",
      " [-1.480930e-01 -2.186036e+00  1.960295e+00]\n",
      " [ 2.539610e-01  2.964677e+00 -2.178259e+00]\n",
      " [ 9.611450e-01  7.406150e-01 -2.191696e+00]\n",
      " [-1.177891e+00 -1.186982e+00  1.845150e+00]\n",
      " [-3.020322e+00  2.992527e+00 -1.563788e+00]\n",
      " [-2.628187e+00 -2.254930e+00 -3.021219e+00]\n",
      " [-1.571468e+00  6.199710e-01  2.289327e+00]\n",
      " [ 9.656580e-01  1.270066e+00 -6.774180e-01]\n",
      " [ 4.818900e-02 -1.342267e+00  2.693822e+00]\n",
      " [-9.055070e-01  1.375027e+00  2.860521e+00]\n",
      " [-2.529568e+00  2.081393e+00 -2.651263e+00]\n",
      " [ 2.396735e+00  1.659341e+00 -1.060197e+00]\n",
      " [-2.782229e+00  9.238870e-01  2.586055e+00]\n",
      " [ 8.331740e-01 -2.301687e+00  3.293500e-02]\n",
      " [-2.960772e+00 -2.277000e-03 -2.124519e+00]\n",
      " [-2.502560e+00 -9.457300e-02  1.553836e+00]\n",
      " [ 1.898655e+00  2.900360e-01  5.705860e-01]\n",
      " [-1.605635e+00  1.690265e+00 -3.652870e-01]\n",
      " [-1.793060e+00  6.611380e-01 -5.172460e-01]\n",
      " [-1.859091e+00 -2.777633e+00  8.236660e-01]\n",
      " [ 7.093470e-01  2.082142e+00 -2.200933e+00]\n",
      " [-2.450812e+00 -3.000787e+00 -2.386267e+00]\n",
      " [-1.483522e+00 -3.204540e-01  1.530988e+00]\n",
      " [ 2.581986e+00 -2.216004e+00  2.208493e+00]\n",
      " [-2.743476e+00 -4.803990e-01 -1.052457e+00]\n",
      " [-2.047517e+00 -5.550710e-01  2.417447e+00]\n",
      " [-1.992130e-01 -2.700331e+00 -1.341588e+00]\n",
      " [ 2.449860e-01 -4.110960e-01  2.488521e+00]\n",
      " [-1.558180e+00 -1.902012e+00 -1.608730e-01]\n",
      " [ 9.558900e-02 -5.790870e-01  8.322470e-01]\n",
      " [-8.074140e-01 -1.932960e-01  7.985140e-01]\n",
      " [ 2.571495e+00  2.650164e+00 -2.457710e+00]\n",
      " [-1.903952e+00 -1.497498e+00 -1.245553e+00]\n",
      " [ 1.555300e-01  1.287264e+00  3.049757e+00]\n",
      " [ 8.763530e-01 -1.209656e+00 -2.869061e+00]\n",
      " [-1.014884e+00  2.758996e+00 -1.404368e+00]\n",
      " [ 3.645990e-01 -7.479590e-01 -2.174350e+00]\n",
      " [ 2.210205e+00  2.605829e+00 -1.345919e+00]\n",
      " [-1.013643e+00  7.850580e-01  1.488230e-01]\n",
      " [ 2.296052e+00  5.189600e-02 -1.288487e+00]\n",
      " [-1.172306e+00 -2.199831e+00  1.480207e+00]\n",
      " [ 8.299670e-01 -2.648809e+00  1.665245e+00]\n",
      " [ 4.735340e-01  1.994695e+00  8.066200e-02]\n",
      " [ 8.395120e-01  2.919362e+00  5.667790e-01]\n",
      " [ 1.144650e-01 -1.334717e+00  2.226420e-01]\n",
      " [-7.108210e-01 -6.682770e-01 -2.591983e+00]\n",
      " [-1.751082e+00  3.635490e-01  8.540130e-01]\n",
      " [ 3.030798e+00  6.374930e-01  7.248410e-01]\n",
      " [-2.206737e+00  2.397890e+00  1.425154e+00]\n",
      " [ 7.934180e-01 -1.738395e+00  9.339630e-01]\n",
      " [ 8.636220e-01 -1.950648e+00  2.386209e+00]\n",
      " [ 1.153762e+00  2.162432e+00 -1.370701e+00]\n",
      " [ 2.812934e+00 -3.970330e-01  7.749700e-01]\n",
      " [-2.032821e+00  1.370208e+00 -1.487073e+00]\n",
      " [-1.067529e+00 -1.298810e+00 -1.812397e+00]\n",
      " [-1.593624e+00  2.128700e+00 -2.070528e+00]\n",
      " [-1.091230e+00  9.108170e-01  1.389281e+00]\n",
      " [ 1.936826e+00 -8.116100e-01  1.264636e+00]\n",
      " [-2.910623e+00  1.836623e+00  1.019299e+00]\n",
      " [ 1.008160e-01  1.270280e-01 -1.729120e-01]\n",
      " [ 1.497362e+00  1.523917e+00  4.656370e-01]\n",
      " [-2.200411e+00  2.202799e+00  3.176620e-01]\n",
      " [ 1.054769e+00 -2.661750e-01  3.391540e-01]\n",
      " [ 1.506341e+00 -9.756840e-01 -9.625630e-01]\n",
      " [ 2.087581e+00 -1.710239e+00 -3.842980e-01]\n",
      " [-1.932571e+00  4.322510e-01 -1.894528e+00]\n",
      " [-2.067662e+00  2.509165e+00 -1.336072e+00]\n",
      " [ 2.446100e-02  6.246430e-01  1.043277e+00]\n",
      " [ 3.350300e-02  1.202241e+00  1.947684e+00]\n",
      " [ 1.914681e+00  2.645663e+00  7.367600e-01]\n",
      " [-9.580180e-01 -4.420310e-01  2.533276e+00]\n",
      " [ 1.822234e+00  7.541580e-01  2.429689e+00]\n",
      " [ 1.166480e+00  7.995080e-01  1.594173e+00]\n",
      " [ 7.483170e-01 -1.750488e+00 -9.216620e-01]\n",
      " [-2.105561e+00 -6.061870e-01  8.025740e-01]\n",
      " [-1.151645e+00  2.432521e+00  3.495080e-01]\n",
      " [ 1.964969e+00  1.902484e+00 -2.139321e+00]\n",
      " [ 2.579795e+00  1.410802e+00 -3.007189e+00]\n",
      " [ 5.408700e-01 -1.838680e+00 -2.009531e+00]\n",
      " [ 1.472915e+00  2.758967e+00 -2.445710e+00]\n",
      " [-1.779790e+00 -1.894786e+00  2.369904e+00]\n",
      " [-2.990372e+00  1.817225e+00 -1.689983e+00]\n",
      " [-1.097340e-01  2.893481e+00 -1.361080e-01]\n",
      " [ 1.556305e+00 -3.473150e-01  2.405198e+00]\n",
      " [ 2.596518e+00 -2.411664e+00 -9.854430e-01]\n",
      " [ 2.509203e+00 -1.756579e+00 -2.479463e+00]\n",
      " [-1.732435e+00  2.162894e+00  2.879127e+00]\n",
      " [ 2.693540e+00  1.542000e-02  2.509489e+00]\n",
      " [-2.060071e+00 -2.566811e+00 -1.256351e+00]\n",
      " [-2.726594e+00  2.036407e+00  2.329921e+00]\n",
      " [-1.446620e+00  3.023454e+00 -2.592842e+00]\n",
      " [-1.581214e+00 -1.210574e+00 -2.787958e+00]\n",
      " [ 1.911573e+00 -2.796412e+00  2.897954e+00]\n",
      " [-8.172550e-01 -2.901551e+00  2.720514e+00]\n",
      " [ 8.534450e-01  3.028693e+00 -6.227920e-01]\n",
      " [ 9.695420e-01  2.982474e+00  2.644251e+00]\n",
      " [ 1.725302e+00 -1.979893e+00 -1.362000e+00]\n",
      " [ 9.147450e-01 -1.715960e-01 -2.806108e+00]\n",
      " [ 1.792153e+00  3.529890e-01 -2.729063e+00]\n",
      " [-2.535944e+00  1.049451e+00  1.548042e+00]\n",
      " [-4.380600e-02  1.169969e+00 -3.916250e-01]\n",
      " [ 1.803749e+00 -1.448640e+00  2.736685e+00]\n",
      " [-1.200865e+00  2.595270e-01 -2.774250e+00]\n",
      " [ 3.271140e-01 -8.148660e-01 -7.213560e-01]\n",
      " [-1.143000e-02  2.933755e+00  2.076282e+00]\n",
      " [ 3.909650e-01  2.183870e-01 -1.388837e+00]\n",
      " [-9.739550e-01 -1.140929e+00 -7.752480e-01]\n",
      " [ 1.339502e+00 -1.319390e+00  9.519100e-02]\n",
      " [ 1.962738e+00 -6.541910e-01 -2.667991e+00]\n",
      " [ 1.425623e+00 -1.184039e+00 -1.893936e+00]\n",
      " [ 2.737373e+00 -2.515925e+00  4.409600e-02]\n",
      " [ 3.042988e+00 -9.008880e-01 -4.734700e-02]\n",
      " [ 3.015245e+00  2.856092e+00  8.271110e-01]\n",
      " [-1.003783e+00  1.920991e+00  1.200620e+00]\n",
      " [-1.135608e+00 -1.113863e+00  4.347360e-01]\n",
      " [ 2.451240e-01  2.368795e+00  2.928110e+00]\n",
      " [ 1.174269e+00 -2.844210e+00 -1.632150e+00]\n",
      " [ 2.175019e+00 -4.937740e-01 -2.225390e-01]\n",
      " [-1.666701e+00 -4.240580e-01 -1.048449e+00]\n",
      " [-1.923581e+00  1.125510e+00 -2.783827e+00]\n",
      " [-2.824613e+00  1.065207e+00 -2.268936e+00]\n",
      " [-1.690999e+00  1.332365e+00  6.810280e-01]\n",
      " [-2.932433e+00 -7.335940e-01 -2.798754e+00]\n",
      " [-2.613720e+00 -3.004375e+00 -4.237810e-01]\n",
      " [ 9.711300e-02  1.307864e+00 -1.569231e+00]\n",
      " [ 2.530044e+00  2.517521e+00 -2.577580e-01]\n",
      " [-3.741250e-01 -4.769770e-01  1.671278e+00]\n",
      " [ 6.048140e-01  1.711910e+00  1.115817e+00]\n",
      " [-2.371680e-01 -1.694472e+00 -1.272346e+00]\n",
      " [ 2.748579e+00 -2.351871e+00  1.138910e+00]\n",
      " [ 2.172295e+00 -2.618410e+00 -2.130904e+00]\n",
      " [ 2.770572e+00  2.832750e-01 -2.284690e-01]\n",
      " [ 2.537995e+00  1.444539e+00  2.154509e+00]\n",
      " [ 1.597281e+00 -1.641779e+00  1.641803e+00]\n",
      " [-8.387310e-01 -2.976200e-02 -5.266410e-01]\n",
      " [ 1.158085e+00  2.040600e-01 -5.782610e-01]\n",
      " [-3.229360e-01  1.593183e+00  5.629110e-01]\n",
      " [-2.474051e+00 -2.512500e-02  1.491190e-01]\n",
      " [-2.778221e+00 -1.833398e+00 -6.664370e-01]\n",
      " [ 4.639400e-02  3.174910e-01 -2.489322e+00]\n",
      " [ 2.511057e+00 -1.029233e+00 -1.290869e+00]\n",
      " [-1.018668e+00  2.922596e+00  1.419916e+00]\n",
      " [ 7.866600e-02 -2.648608e+00  1.029346e+00]\n",
      " [-2.011331e+00 -9.585690e-01 -3.058000e-01]\n",
      " [ 2.533568e+00  1.541955e+00  2.833020e-01]\n",
      " [-1.738417e+00  3.032015e+00  2.081836e+00]\n",
      " [-2.867667e+00 -1.973459e+00 -1.768975e+00]\n",
      " [ 7.962510e-01  8.730750e-01  1.987760e-01]\n",
      " [ 2.131499e+00  1.519390e-01  1.561887e+00]\n",
      " [-8.242890e-01 -1.880767e+00  2.751043e+00]\n",
      " [-5.894160e-01  2.005700e+00 -3.095360e-01]\n",
      " [ 1.602148e+00 -2.390681e+00  6.705460e-01]\n",
      " [ 1.941956e+00  8.957960e-01 -4.987030e-01]\n",
      " [ 1.264922e+00  2.471647e+00  1.519485e+00]\n",
      " [ 8.395920e-01 -2.475520e-01  1.571806e+00]\n",
      " [ 2.784630e+00  2.865942e+00  2.433927e+00]\n",
      " [ 1.368566e+00 -7.767700e-02 -1.707778e+00]]\n",
      "500-atom position array:\n",
      " [[-0.448824  0.154664 -0.111682]\n",
      " [-0.343292  0.251982  0.908185]\n",
      " [-0.061432 -0.713214  0.44626 ]\n",
      " ...\n",
      " [-0.418216 -3.160866 -3.093508]\n",
      " [-3.495829 -0.822057 -3.114033]\n",
      " [ 1.717514  2.747489 -3.091613]]\n",
      "1000-atom position array:\n",
      " [[ 0.516613  0.019724  1.204809]\n",
      " [ 0.69019  -0.9218    0.658039]\n",
      " [-0.29502  -0.500291  0.760023]\n",
      " ...\n",
      " [-4.022963 -1.797735 -3.736121]\n",
      " [-2.724171  3.646723 -3.741703]\n",
      " [-4.660764 -0.889811 -3.721657]]\n"
     ]
    }
   ],
   "source": [
    "# 2b)\n",
    "position_0003 = xyz_reader(xyz_0003)\n",
    "print(\"3-atom position array:\\n\",position_0003)\n",
    "\n",
    "position_0200 = xyz_reader(xyz_0200)\n",
    "print(\"200-atom position array:\\n\",position_0200)\n",
    "\n",
    "position_0500 = xyz_reader(xyz_0500)\n",
    "print(\"500-atom position array:\\n\",position_0500)\n",
    "\n",
    "position_1000 = xyz_reader(xyz_1000)\n",
    "print(\"1000-atom position array:\\n\",position_1000)"
   ]
  },
  {
   "cell_type": "markdown",
   "metadata": {},
   "source": [
    "3a.\n",
    "To find the total number of pairwise potential energy calculations\n",
    "for n particles, we can use the n choose k (i.e., combination) formula. As we\n",
    "are interested in pairs, we can set k = 2. When we do this, the formula \n",
    "simplifies to n(n-1)/2."
   ]
  },
  {
   "cell_type": "code",
   "execution_count": null,
   "metadata": {},
   "outputs": [
    {
     "name": "stdout",
     "output_type": "stream",
     "text": [
      "Energy of 3-atom system: -2.437910550387346\n",
      "Energy of 200-atom system: -799.6247840691689\n",
      "Energy of 500-atom system: -3315.986632752494\n"
     ]
    }
   ],
   "source": [
    "# 3b)\n",
    "def system_energy(xyz_file):\n",
    "\n",
    "    position = []\n",
    "    with open(xyz_file, \"r\") as xyz:\n",
    "        l_cnt = 0\n",
    "        for line in xyz:\n",
    "            l_cnt += 1\n",
    "            if l_cnt <=2:\n",
    "                continue\n",
    "            else:\n",
    "                xyz_pos = line.split()\n",
    "                xyz_pos.pop(0)\n",
    "                position.append(xyz_pos)\n",
    "    \n",
    "    pos_array = np.array(position, dtype=\"float32\")\n",
    "\n",
    "    system_energy = 0\n",
    "    i = 0 # counter\n",
    "    len_array = len(pos_array)\n",
    "    \n",
    "    for a in pos_array:\n",
    "        i += 1\n",
    "        for index in range(i,len_array):\n",
    "            b = pos_array[index,:]\n",
    "            distance = ((a[0]-b[0])**2 + (a[1]-b[1])**2 + (a[2]-b[2])**2)**(1/2)\n",
    "            system_energy += naive_lj(distance,1,1)\n",
    "        \n",
    "    return system_energy\n",
    "\n",
    "print(\"Energy of 3-atom system:\",system_energy(xyz_0003))\n",
    "print(\"Energy of 200-atom system:\",system_energy(xyz_0200))\n",
    "print(\"Energy of 500-atom system:\",system_energy(xyz_0500))\n",
    "print(\"Energy of 1000-atom system:\",system_energy(xyz_1000))"
   ]
  },
  {
   "cell_type": "code",
   "execution_count": 8,
   "metadata": {},
   "outputs": [
    {
     "name": "stdout",
     "output_type": "stream",
     "text": [
      "Energy of 3-atom system: 0\n",
      "Energy of 200-atom system: 37.83056611346621\n",
      "Energy of 500-atom system: 30.564357266063986\n",
      "Energy of 1000-atom system: 58.50723995135499\n"
     ]
    },
    {
     "data": {
      "text/plain": [
       "'\\nThis is a nonsensical cutoff. We know that when all the atoms in these systems are\\ntaken into the account, their energies should be negative values. However, when a \\ncutoff of 1 is used, their energies are all positive (except for the 3-atom\\nsystem, which has an energy of 0). \\n'"
      ]
     },
     "execution_count": 8,
     "metadata": {},
     "output_type": "execute_result"
    }
   ],
   "source": [
    "# 4a)\n",
    "def naive_system_energy(xyz_file, cutoff=1):\n",
    "\n",
    "    position = []\n",
    "    with open(xyz_file, \"r\") as xyz:\n",
    "        l_cnt = 0\n",
    "        for line in xyz:\n",
    "            l_cnt += 1\n",
    "            if l_cnt <=2:\n",
    "                continue\n",
    "            else:\n",
    "                xyz_pos = line.split()\n",
    "                xyz_pos.pop(0)\n",
    "                position.append(xyz_pos)\n",
    "    \n",
    "    pos_array = np.array(position, dtype=\"float32\")\n",
    "\n",
    "    system_energy = 0\n",
    "    i = 0 # counter\n",
    "    len_array = len(pos_array)\n",
    "    \n",
    "    for a in pos_array:\n",
    "        i += 1\n",
    "        for index in range(i,len_array):\n",
    "            b = pos_array[index,:]\n",
    "            distance = ((a[0]-b[0])**2 + (a[1]-b[1])**2 + (a[2]-b[2])**2)**(1/2)\n",
    "            \n",
    "            if distance <= cutoff:\n",
    "                system_energy += naive_lj(distance,1,1)\n",
    "        \n",
    "    return system_energy\n",
    "\n",
    "print(\"Energy of 3-atom system:\",naive_system_energy(xyz_0003))\n",
    "print(\"Energy of 200-atom system:\",naive_system_energy(xyz_0200))\n",
    "print(\"Energy of 500-atom system:\",naive_system_energy(xyz_0500))\n",
    "print(\"Energy of 1000-atom system:\",naive_system_energy(xyz_1000))\n",
    "\n",
    "\"\"\"\n",
    "This is a nonsensical cutoff. We know that when all the atoms in these systems are\n",
    "taken into the account, their energies should be negative values. However, when a \n",
    "cutoff of 1 is used, their energies are all positive (except for the 3-atom\n",
    "system, which has an energy of 0). \n",
    "\"\"\""
   ]
  },
  {
   "cell_type": "code",
   "execution_count": 9,
   "metadata": {},
   "outputs": [
    {
     "data": {
      "text/plain": [
       "<Figure size 640x480 with 1 Axes>"
      ]
     },
     "metadata": {},
     "output_type": "display_data"
    },
    {
     "data": {
      "text/plain": [
       "\"\\nLooking at the plot, it appears that 3 might be a good cutoff (any decreases\\nin the magnitude of the system's energy are very slight past this cutoff). From\\nthe numpy array plot_data_np, we can see that the exact energy of the system at \\ncutoff = 3 is -6867.94. We already know that the energy of the system without\\na cutoff is -7017.923488258043, so a cutoff of 3 preserves ~ 97.86% \\n((6867.94/7017.92)*100) of the maximum/total energy of the system.\\n\""
      ]
     },
     "execution_count": 9,
     "metadata": {},
     "output_type": "execute_result"
    }
   ],
   "source": [
    "# 4b)\n",
    "diff_cutoffs = np.linspace(0.5, 5, num=46)\n",
    "plot_data = []\n",
    "for value in diff_cutoffs:\n",
    "    sys_energy = naive_system_energy(xyz_1000, value)\n",
    "    plot_point = (value, sys_energy)\n",
    "    plot_data.append(plot_point)\n",
    "    \n",
    "plot_data_np = np.array(plot_data, dtype=\"float32\")\n",
    "    \n",
    "import matplotlib.pyplot as plt\n",
    "\n",
    "plt.figure()\n",
    "plt.title(\"Energy of 1000-atom System vs. Cutoff\")\n",
    "plt.xlabel(\"Cutoff\")\n",
    "plt.ylabel(\"Energy of System\")\n",
    "\n",
    "plt.scatter(plot_data_np[:,0], plot_data_np[:,1])\n",
    "\n",
    "plt.show();\n",
    "\n",
    "\"\"\"\n",
    "Looking at the plot, it appears that 3 might be a good cutoff (any decreases\n",
    "in the magnitude of the system's energy are very slight past this cutoff). From\n",
    "the numpy array plot_data_np, we can see that the exact energy of the system at \n",
    "cutoff = 3 is -6867.94. We already know that the energy of the system without\n",
    "a cutoff is -7017.923488258043, so a cutoff of 3 preserves ~ 97.86% \n",
    "((6867.94/7017.92)*100) of the maximum/total energy of the system.\n",
    "\"\"\""
   ]
  },
  {
   "cell_type": "code",
   "execution_count": 10,
   "metadata": {},
   "outputs": [
    {
     "data": {
      "image/png": "[encoded data removed]",
      "text/plain": [
       "<Figure size 432x288 with 1 Axes>"
      ]
     },
     "metadata": {
      "needs_background": "light"
     },
     "output_type": "display_data"
    },
    {
     "data": {
      "text/plain": [
       "\"\\nAs can be seen from the plot, runtime is hardly affected by the cutoff we set;\\nwe have not solved the N**2 scaling problem. This is to be expected, however,\\nas we have not actually changed the algorithm in any fundamental way: it still\\nhas to calculate the distance between every pair of atoms in the system. As a \\nresult, the scaling of the problem hasn't really changed.\\n\""
      ]
     },
     "execution_count": 10,
     "metadata": {},
     "output_type": "execute_result"
    }
   ],
   "source": [
    "# 4c)\n",
    "total_energy = []\n",
    "\n",
    "init = time.perf_counter()\n",
    "naive_system_energy(xyz_0003, 3)\n",
    "fin = time.perf_counter()\n",
    "time_in_sec = fin - init\n",
    "plot_point = (3, time_in_sec)\n",
    "total_energy.append(plot_point)\n",
    "\n",
    "init = time.perf_counter()\n",
    "naive_system_energy(xyz_0200, 3)\n",
    "fin = time.perf_counter()\n",
    "time_in_sec = fin - init\n",
    "plot_point = (200, time_in_sec)\n",
    "total_energy.append(plot_point)\n",
    "\n",
    "init = time.perf_counter()\n",
    "naive_system_energy(xyz_0500, 3)\n",
    "fin = time.perf_counter()\n",
    "time_in_sec = fin - init\n",
    "plot_point = (500, time_in_sec)\n",
    "total_energy.append(plot_point)\n",
    "\n",
    "init = time.perf_counter()\n",
    "naive_system_energy(xyz_1000, 3)\n",
    "fin = time.perf_counter()\n",
    "time_in_sec = fin - init\n",
    "plot_point = (1000, time_in_sec)\n",
    "total_energy.append(plot_point)\n",
    "\n",
    "total_energy_np = np.array(total_energy, dtype=\"float32\")\n",
    "\n",
    "###\n",
    "\n",
    "cutoff_energy = []\n",
    "\n",
    "init = time.perf_counter()\n",
    "naive_system_energy(xyz_0003, 3)\n",
    "fin = time.perf_counter()\n",
    "time_in_sec = fin - init\n",
    "plot_point = (3, time_in_sec)\n",
    "cutoff_energy.append(plot_point)\n",
    "\n",
    "init = time.perf_counter()\n",
    "naive_system_energy(xyz_0200, 3)\n",
    "fin = time.perf_counter()\n",
    "time_in_sec = fin - init\n",
    "plot_point = (200, time_in_sec)\n",
    "cutoff_energy.append(plot_point)\n",
    "\n",
    "init = time.perf_counter()\n",
    "naive_system_energy(xyz_0500, 3)\n",
    "fin = time.perf_counter()\n",
    "time_in_sec = fin - init\n",
    "plot_point = (500, time_in_sec)\n",
    "cutoff_energy.append(plot_point)\n",
    "\n",
    "init = time.perf_counter()\n",
    "naive_system_energy(xyz_1000, 3)\n",
    "fin = time.perf_counter()\n",
    "time_in_sec = fin - init\n",
    "plot_point = (1000, time_in_sec)\n",
    "cutoff_energy.append(plot_point)\n",
    "\n",
    "cutoff_energy_np = np.array(cutoff_energy, dtype=\"float32\")\n",
    "\n",
    "###\n",
    "\n",
    "plt.figure()\n",
    "plt.title(\"n-atom System vs. Runtime\\n(No Cutoff vs. Cutoff = 3)\")\n",
    "plt.xlabel(\"# Atoms in System\")\n",
    "plt.ylabel(\"Runtime (s)\")\n",
    "\n",
    "plt.plot(total_energy_np[:,0], total_energy_np[:,1], marker='o', color='r')\n",
    "plt.plot(cutoff_energy_np[:,0], cutoff_energy_np[:,1], marker='o', color='b')\n",
    "\n",
    "plt.legend([\"No Cutoff\",\"Cutoff = 3\"], loc='best')\n",
    "\n",
    "plt.show();\n",
    "\n",
    "\"\"\"\n",
    "As can be seen from the plot, runtime is hardly affected by the cutoff we set;\n",
    "we have not solved the N**2 scaling problem. This is to be expected, however,\n",
    "as we have not actually changed the algorithm in any fundamental way: it still\n",
    "has to calculate the distance between every pair of atoms in the system. As a \n",
    "result, the scaling of the problem hasn't really changed.\n",
    "\"\"\""
   ]
  },
  {
   "cell_type": "code",
   "execution_count": null,
   "metadata": {},
   "outputs": [],
   "source": [
    "\"\"\"\n",
    "5a) N\n",
    "\n",
    "5b) 1\n",
    "\n",
    "5c) 1\n",
    "\n",
    "5d) 2N**3\n",
    "\n",
    "5e) 1\n",
    "\n",
    "5f) 2\n",
    "\n",
    "5g) 1\n",
    "\"\"\""
   ]
  },
  {
   "cell_type": "code",
   "execution_count": null,
   "metadata": {},
   "outputs": [],
   "source": [
    "\"\"\"\n",
    "6a. N\n",
    "\n",
    "6b. N\n",
    "\n",
    "6c. N*log(N)\n",
    "\"\"\""
   ]
  },
  {
   "cell_type": "code",
   "execution_count": null,
   "metadata": {},
   "outputs": [],
   "source": [
    "\"\"\"\n",
    "7)\n",
    "\n",
    "-- Let's look at what we currently have:\n",
    "\n",
    "f(No) = T\n",
    "\n",
    "f(No*2) = T*2**b\n",
    "\n",
    "-- so, we can see that f(No) is a special case.\n",
    "   We can ask ourselves the question, \"Where is\n",
    "   the 2**b factor when N = No?\"\n",
    "\n",
    "-- well, let's try changing what's inside \"f()\"\n",
    "   and seeing how we can manipulate the right\n",
    "   side of the equation. Knowing that this is \n",
    "   doubling test, we can only really multiply\n",
    "   No by 2**x (where x represents whole numbers).\n",
    "   We'll start with x = 2:\n",
    "   \n",
    "   f(No*(2**2)) = T*(2**(b))**2 = T*2**(b*2)\n",
    "   \n",
    "-- interesting. Let's try x = 3:\n",
    "   f(No*(2**3)) = T*(2**(b))**3 = T*2**(b*3)\n",
    "   \n",
    "-- Ok, so we can see that the term multiplied by b\n",
    "   (depending on what the value on x is) can be \n",
    "   thought of as the result of N/No. So for when N\n",
    "   = No (i.e., in the case \"f(No) = T\" we initially\n",
    "   saw) - if the term multiplied by b is N/No - the factor\n",
    "   2**b would still be there (it would be 2**(b*1), or\n",
    "   just 2**b). However, this is not the case. Therefore,\n",
    "   the term multiplied by b must actually be (N/No) - 1, so that\n",
    "   when N = No, the 2**b facto disappears (which it would if \n",
    "   the term multiplied by b is 0). Therefore, we know the general\n",
    "   formula for f(N) must be:\n",
    "   \n",
    "   f(N) = 2**(b*((N/No) - 1))*T\n",
    "   \"\"\""
   ]
  },
  {
   "cell_type": "code",
   "execution_count": 11,
   "metadata": {},
   "outputs": [],
   "source": [
    "# 8a)\n",
    "# based on pseduocode, i is an list that is appended to\n",
    "# define i as empty list before \"for\" loop\n",
    "# c is a vector of denomination values\n",
    "# c must be ordered from greatest to least\n",
    "# none-whole numbers potentially returned unless floor division used\n",
    "def BETTERCHANGE(M,c,d):\n",
    "    i = []\n",
    "    c.sort(reverse=True)\n",
    "    r = M\n",
    "    for k in range(d):\n",
    "        i.append(r//c[k])\n",
    "        r = r - c[k]*i[k]\n",
    "    return i"
   ]
  },
  {
   "cell_type": "code",
   "execution_count": 12,
   "metadata": {},
   "outputs": [
    {
     "name": "stdout",
     "output_type": "stream",
     "text": [
      "[8, 2, 1]\n"
     ]
    }
   ],
   "source": [
    "# 8b)\n",
    "print(BETTERCHANGE(79,[1,3,9],3))"
   ]
  },
  {
   "cell_type": "code",
   "execution_count": null,
   "metadata": {},
   "outputs": [],
   "source": [
    "\"\"\"\n",
    "8c)\n",
    "\n",
    "The runtime of BETTERCHANGE is directly related to the size of d (as the\n",
    "size of d determines how many times the function passes through its \"for\" loop).\n",
    "While the order of growth of the runtime is O(n), in this case one could argue \n",
    "that BETTERCHANGE's runtime order of growth could also be represented as O(d).\n",
    "\n",
    "Compared to d, M and c have a negligable effect on BETTERCHANGE's runtime order of growth.\n",
    "\"\"\""
   ]
  },
  {
   "cell_type": "code",
   "execution_count": 13,
   "metadata": {},
   "outputs": [
    {
     "name": "stdout",
     "output_type": "stream",
     "text": [
      "[8, 0, 1]\n"
     ]
    }
   ],
   "source": [
    "# 8d)\n",
    "# correct case (right amount of change returned in most efficient way):\n",
    "print(BETTERCHANGE(81,[1,5,10],3))\n",
    "# 81 == 81"
   ]
  },
  {
   "cell_type": "code",
   "execution_count": 14,
   "metadata": {},
   "outputs": [
    {
     "name": "stdout",
     "output_type": "stream",
     "text": [
      "[4, 0, 1]\n"
     ]
    }
   ],
   "source": [
    "# 8e)\n",
    "# incorrect case (wrong amount of change returned):\n",
    "print(BETTERCHANGE(55,[2,7,13],3))\n",
    "# 55 != 54"
   ]
  },
  {
   "cell_type": "code",
   "execution_count": 15,
   "metadata": {},
   "outputs": [],
   "source": [
    "# 9a)\n",
    "def harmonic(n):\n",
    "    y = 0\n",
    "    for i in range(1,n+1):\n",
    "        x = 1/i\n",
    "        y += x\n",
    "    return y"
   ]
  },
  {
   "cell_type": "code",
   "execution_count": 16,
   "metadata": {},
   "outputs": [],
   "source": [
    "# 9b)\n",
    "def coupon(n):\n",
    "    i = []\n",
    "    while len(np.unique(i)) < n:\n",
    "        randVal = np.random.randint(0,n)\n",
    "        i.append(randVal)\n",
    "    num_val = len(i)\n",
    "    return (num_val, n)"
   ]
  },
  {
   "cell_type": "code",
   "execution_count": 17,
   "metadata": {},
   "outputs": [],
   "source": [
    "# 9c)\n",
    "def coupon_sim(n):\n",
    "    sim_total = 0\n",
    "    for _ in range(100):\n",
    "        sim_total += coupon(n)[0]\n",
    "    sim_avg = sim_total/100\n",
    "    return (sim_avg, n)"
   ]
  },
  {
   "cell_type": "code",
   "execution_count": 18,
   "metadata": {},
   "outputs": [
    {
     "data": {
      "image/png": "[encoded data removed]",
      "text/plain": [
       "<Figure size 432x288 with 1 Axes>"
      ]
     },
     "metadata": {
      "needs_background": "light"
     },
     "output_type": "display_data"
    }
   ],
   "source": [
    "# 9d)\n",
    "def doubling_test(n, n_max):\n",
    "    harmonic_data = []\n",
    "    coupon_s_data = []\n",
    "    while n <= n_max: \n",
    "        harmonic_data.append((n, n*harmonic(n)))\n",
    "        coupon_s_data.append((n, coupon_sim(n)[0]))\n",
    "        n *= 2\n",
    "    harmonic_np = np.array(harmonic_data)\n",
    "    coupon_s_np = np.array(coupon_s_data)\n",
    "    return (harmonic_np, coupon_s_np)\n",
    "\n",
    "func_ret = doubling_test(2, 1000)\n",
    "harmonic_plot = func_ret[0]\n",
    "coupon_s_plot = func_ret[1]\n",
    "\n",
    "plt.figure()\n",
    "plt.title(\"Solution to 9d\")\n",
    "plt.xlabel(\"value of n\")\n",
    "plt.ylabel(\"n*Hn (harmonic) | Avg. # of Iterations (coupon)\")\n",
    "\n",
    "plt.plot(harmonic_plot[:,0], harmonic_plot[:,1], marker='o', color='r')\n",
    "plt.plot(coupon_s_plot[:,0], coupon_s_plot[:,1], marker='o', color='b')\n",
    "\n",
    "plt.legend([\"harmonic\",\"coupon\"], loc='best')\n",
    "\n",
    "plt.show();"
   ]
  }
 ],
 "metadata": {
  "kernelspec": {
   "display_name": "Python 3",
   "language": "python",
   "name": "python3"
  },
  "language_info": {
   "codemirror_mode": {
    "name": "ipython",
    "version": 3
   },
   "file_extension": ".py",
   "mimetype": "text/x-python",
   "name": "python",
   "nbconvert_exporter": "python",
   "pygments_lexer": "ipython3",
   "version": "3.7.4"
  }
 },
 "nbformat": 4,
 "nbformat_minor": 2
}
